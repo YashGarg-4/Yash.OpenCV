{
 "cells": [
  {
   "cell_type": "code",
   "execution_count": 1,
   "id": "b971b968-875c-41f4-be63-e974cb0d3146",
   "metadata": {},
   "outputs": [
    {
     "ename": "error",
     "evalue": "OpenCV(4.10.0) D:\\a\\opencv-python\\opencv-python\\opencv\\modules\\imgproc\\src\\color.cpp:196: error: (-215:Assertion failed) !_src.empty() in function 'cv::cvtColor'\n",
     "output_type": "error",
     "traceback": [
      "\u001b[1;31m---------------------------------------------------------------------------\u001b[0m",
      "\u001b[1;31merror\u001b[0m                                     Traceback (most recent call last)",
      "Cell \u001b[1;32mIn[1], line 8\u001b[0m\n\u001b[0;32m      5\u001b[0m image \u001b[38;5;241m=\u001b[39m cv2\u001b[38;5;241m.\u001b[39mimread(\u001b[38;5;124m'\u001b[39m\u001b[38;5;124mpothole_image.jpg\u001b[39m\u001b[38;5;124m'\u001b[39m)\n\u001b[0;32m      7\u001b[0m \u001b[38;5;66;03m# 1. Preprocessing\u001b[39;00m\n\u001b[1;32m----> 8\u001b[0m gray \u001b[38;5;241m=\u001b[39m cv2\u001b[38;5;241m.\u001b[39mcvtColor(image, cv2\u001b[38;5;241m.\u001b[39mCOLOR_BGR2GRAY)\n\u001b[0;32m      9\u001b[0m blur \u001b[38;5;241m=\u001b[39m cv2\u001b[38;5;241m.\u001b[39mGaussianBlur(gray, (\u001b[38;5;241m7\u001b[39m, \u001b[38;5;241m7\u001b[39m), \u001b[38;5;241m2\u001b[39m)  \u001b[38;5;66;03m# Kernel size adjustable [2][6]\u001b[39;00m\n\u001b[0;32m     11\u001b[0m \u001b[38;5;66;03m# 2. Thresholding\u001b[39;00m\n",
      "\u001b[1;31merror\u001b[0m: OpenCV(4.10.0) D:\\a\\opencv-python\\opencv-python\\opencv\\modules\\imgproc\\src\\color.cpp:196: error: (-215:Assertion failed) !_src.empty() in function 'cv::cvtColor'\n"
     ]
    }
   ],
   "source": [
    "import cv2\n",
    "import numpy as np\n",
    "\n",
    "# Load image\n",
    "image = cv2.imread('pothole_image.jpg')\n",
    "\n",
    "# 1. Preprocessing\n",
    "gray = cv2.cvtColor(image, cv2.COLOR_BGR2GRAY)\n",
    "blur = cv2.GaussianBlur(gray, (7, 7), 2)  # Kernel size adjustable [2][6]\n",
    "\n",
    "# 2. Thresholding\n",
    "_, thresh = cv2.threshold(blur, 0, 255, \n",
    "                         cv2.THRESH_BINARY_INV + cv2.THRESH_OTSU)  # Auto-threshold [2]\n",
    "\n",
    "# 3. Contour Detection\n",
    "contours, _ = cv2.findContours(thresh, cv2.RETR_EXTERNAL, \n",
    "                             cv2.CHAIN_APPROX_SIMPLE)\n",
    "\n",
    "min_area = 800  # Adjust based on pothole size [3][6]\n",
    "\n",
    "for cnt in contours:\n",
    "    area = cv2.contourArea(cnt)\n",
    "    if area > min_area:\n",
    "        # Draw bounding rectangle [7]\n",
    "        x, y, w, h = cv2.boundingRect(cnt)\n",
    "        cv2.rectangle(image, (x, y), (x+w, y+h), (0, 255, 0), 2)\n",
    "        \n",
    "        # Draw enclosing circle [4][8]\n",
    "        (cx, cy), radius = cv2.minEnclosingCircle(cnt)\n",
    "        cv2.circle(image, (int(cx), int(cy)), int(radius), (0, 0, 255), 2)\n",
    "\n",
    "# Save and display\n",
    "cv2.imwrite('detected_potholes.jpg', image)\n",
    "cv2.imshow('Pothole Detection', image)\n",
    "cv2.waitKey(0)\n",
    "cv2.destroyAllWindows()\n"
   ]
  }
 ],
 "metadata": {
  "kernelspec": {
   "display_name": "Python 3 (ipykernel)",
   "language": "python",
   "name": "python3"
  },
  "language_info": {
   "codemirror_mode": {
    "name": "ipython",
    "version": 3
   },
   "file_extension": ".py",
   "mimetype": "text/x-python",
   "name": "python",
   "nbconvert_exporter": "python",
   "pygments_lexer": "ipython3",
   "version": "3.11.7"
  }
 },
 "nbformat": 4,
 "nbformat_minor": 5
}
