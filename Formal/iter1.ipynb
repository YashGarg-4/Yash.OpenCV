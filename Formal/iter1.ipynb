{
 "cells": [
  {
   "cell_type": "code",
   "execution_count": 48,
   "id": "b971b968-875c-41f4-be63-e974cb0d3146",
   "metadata": {},
   "outputs": [
    {
     "name": "stdout",
     "output_type": "stream",
     "text": [
      "405600\n",
      "73902\n",
      "1118313\n",
      "294800\n",
      "260000\n",
      "Processed 5 images\n"
     ]
    }
   ],
   "source": [
    "import cv2\n",
    "import numpy as np\n",
    "import os\n",
    "\n",
    "def process_pothole_image(img_path):\n",
    "    image = cv2.imread(img_path)\n",
    "    if image is None:\n",
    "        return None\n",
    "    \n",
    "    # 1. Preprocessing\n",
    "    gray = cv2.cvtColor(image, cv2.COLOR_BGR2GRAY)\n",
    "    blur = cv2.GaussianBlur(gray, (7, 7), 2)  # Adjusted kernel size\n",
    "    \n",
    "    # 2. Thresholding\n",
    "    _, thresh = cv2.threshold(blur, 0, 255, \n",
    "                            cv2.THRESH_BINARY_INV + cv2.THRESH_OTSU)\n",
    "    \n",
    "    # 3. Contour Detection\n",
    "    contours, _ = cv2.findContours(thresh, cv2.RETR_EXTERNAL, \n",
    "                                cv2.CHAIN_APPROX_SIMPLE)\n",
    "    \n",
    "    img_height, img_width = image.shape[:2]\n",
    "    min_area = (img_height * img_width) // 1200\n",
    "    print(img_height * img_width)\n",
    "    for cnt in contours:\n",
    "        area = cv2.contourArea(cnt)\n",
    "        if area > min_area:\n",
    "            x, y, w, h = cv2.boundingRect(cnt)\n",
    "            cv2.rectangle(image, (x, y), (x+w, y+h), (0, 255, 0), 2)\n",
    "    \n",
    "    return image\n",
    "\n",
    "# Main processing\n",
    "dataset_path = \".\\DS1\\pothole_image_data\\Pothole_Image_Data\"  # Replace with your dataset path\n",
    "processed_count = 0\n",
    "\n",
    "# Get list of image files\n",
    "image_files = [f for f in os.listdir(dataset_path) \n",
    "              if os.path.splitext(f)[1].lower() in ['.jpg', '.jpeg', '.png']]\n",
    "\n",
    "for img_file in image_files[30:35]:  # Process first 10 images\n",
    "    img_path = os.path.join(dataset_path, img_file)\n",
    "    result = process_pothole_image(img_path)\n",
    "    \n",
    "    if result is not None:\n",
    "        processed_count += 1\n",
    "        cv2.imshow(f'Pothole Detection {processed_count}', result)\n",
    "        cv2.waitKey(0)  # Press any key to see next image\n",
    "\n",
    "cv2.destroyAllWindows()\n",
    "print(f\"Processed {processed_count} images\")\n"
   ]
  }
 ],
 "metadata": {
  "kernelspec": {
   "display_name": "base",
   "language": "python",
   "name": "python3"
  },
  "language_info": {
   "codemirror_mode": {
    "name": "ipython",
    "version": 3
   },
   "file_extension": ".py",
   "mimetype": "text/x-python",
   "name": "python",
   "nbconvert_exporter": "python",
   "pygments_lexer": "ipython3",
   "version": "3.11.7"
  }
 },
 "nbformat": 4,
 "nbformat_minor": 5
}
