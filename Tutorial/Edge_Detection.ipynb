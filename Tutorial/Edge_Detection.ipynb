{
 "cells": [
  {
   "cell_type": "code",
   "execution_count": 2,
   "metadata": {},
   "outputs": [
    {
     "data": {
      "text/plain": [
       "-1"
      ]
     },
     "execution_count": 2,
     "metadata": {},
     "output_type": "execute_result"
    }
   ],
   "source": [
    "import cv2 as cv\n",
    "import numpy as np\n",
    "\n",
    "img = cv.imread('Apple.jpeg')\n",
    "cv.imshow('Apple', img)\n",
    "\n",
    "gray = cv.cvtColor(img, cv.COLOR_BGR2GRAY)\n",
    "cv.imshow('Gray', gray)\n",
    "\n",
    "# Laplacian\n",
    "lap = cv.Laplacian(gray, cv.CV_64F)\n",
    "lap = np.uint8(np.absolute(lap))\n",
    "cv.imshow('Laplacian', lap)\n",
    "\n",
    "# Sobel \n",
    "sobelx = cv.Sobel(gray, cv.CV_64F, 1, 0)\n",
    "sobely = cv.Sobel(gray, cv.CV_64F, 0, 1)\n",
    "combined_sobel = cv.bitwise_or(sobelx, sobely)\n",
    "\n",
    "cv.imshow('Sobel X', sobelx)\n",
    "cv.imshow('Sobel Y', sobely)\n",
    "cv.imshow('Combined Sobel', combined_sobel)\n",
    "\n",
    "canny = cv.Canny(gray, 150, 175)\n",
    "cv.imshow('Canny', canny)\n",
    "cv.waitKey(0)"
   ]
  }
 ],
 "metadata": {
  "kernelspec": {
   "display_name": "base",
   "language": "python",
   "name": "python3"
  },
  "language_info": {
   "codemirror_mode": {
    "name": "ipython",
    "version": 3
   },
   "file_extension": ".py",
   "mimetype": "text/x-python",
   "name": "python",
   "nbconvert_exporter": "python",
   "pygments_lexer": "ipython3",
   "version": "3.11.7"
  }
 },
 "nbformat": 4,
 "nbformat_minor": 2
}
