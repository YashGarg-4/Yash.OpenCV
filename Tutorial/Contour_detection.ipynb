{
 "cells": [
  {
   "cell_type": "code",
   "execution_count": 1,
   "metadata": {},
   "outputs": [],
   "source": [
    "import cv2 as cv\n",
    "import numpy as np"
   ]
  },
  {
   "cell_type": "code",
   "execution_count": 2,
   "metadata": {},
   "outputs": [],
   "source": [
    "img = cv.imread('Apple.jpeg')"
   ]
  },
  {
   "cell_type": "code",
   "execution_count": 3,
   "metadata": {},
   "outputs": [
    {
     "data": {
      "text/plain": [
       "<function destroyAllWindows>"
      ]
     },
     "execution_count": 3,
     "metadata": {},
     "output_type": "execute_result"
    }
   ],
   "source": [
    "gray = cv.cvtColor(img, cv.COLOR_BGR2GRAY)\n",
    "cv.imshow('Apple', gray)\n",
    "cv.waitKey(0)\n",
    "cv.destroyAllWindows"
   ]
  },
  {
   "cell_type": "code",
   "execution_count": 15,
   "metadata": {},
   "outputs": [
    {
     "data": {
      "text/plain": [
       "-1"
      ]
     },
     "execution_count": 15,
     "metadata": {},
     "output_type": "execute_result"
    }
   ],
   "source": [
    "blur = cv.blur(img, (3,3))\n",
    "canny= cv.Canny(blur, 125, 175)\n",
    "cv.imshow('Apple', canny)\n",
    "cv.waitKey(0)\n",
    "# cv.destroyAllWindows"
   ]
  },
  {
   "cell_type": "code",
   "execution_count": 12,
   "metadata": {},
   "outputs": [],
   "source": [
    "contours, hier = cv.findContours(canny, cv.RETR_LIST, cv.CHAIN_APPROX_NONE) "
   ]
  },
  {
   "cell_type": "code",
   "execution_count": 13,
   "metadata": {},
   "outputs": [
    {
     "data": {
      "text/plain": [
       "array([[[ 1, -1, -1, -1],\n",
       "        [ 2,  0, -1, -1],\n",
       "        [ 3,  1, -1, -1],\n",
       "        [ 4,  2, -1, -1],\n",
       "        [ 5,  3, -1, -1],\n",
       "        [ 6,  4, -1, -1],\n",
       "        [ 7,  5, -1, -1],\n",
       "        [ 8,  6, -1, -1],\n",
       "        [ 9,  7, -1, -1],\n",
       "        [10,  8, -1, -1],\n",
       "        [11,  9, -1, -1],\n",
       "        [12, 10, -1, -1],\n",
       "        [13, 11, -1, -1],\n",
       "        [14, 12, -1, -1],\n",
       "        [15, 13, -1, -1],\n",
       "        [16, 14, -1, -1],\n",
       "        [17, 15, -1, -1],\n",
       "        [18, 16, -1, -1],\n",
       "        [19, 17, -1, -1],\n",
       "        [20, 18, -1, -1],\n",
       "        [21, 19, -1, -1],\n",
       "        [22, 20, -1, -1],\n",
       "        [23, 21, -1, -1],\n",
       "        [24, 22, -1, -1],\n",
       "        [25, 23, -1, -1],\n",
       "        [26, 24, -1, -1],\n",
       "        [27, 25, -1, -1],\n",
       "        [28, 26, -1, -1],\n",
       "        [29, 27, -1, -1],\n",
       "        [30, 28, -1, -1],\n",
       "        [31, 29, -1, -1],\n",
       "        [32, 30, -1, -1],\n",
       "        [33, 31, -1, -1],\n",
       "        [34, 32, -1, -1],\n",
       "        [35, 33, -1, -1],\n",
       "        [36, 34, -1, -1],\n",
       "        [37, 35, -1, -1],\n",
       "        [38, 36, -1, -1],\n",
       "        [39, 37, -1, -1],\n",
       "        [40, 38, -1, -1],\n",
       "        [41, 39, -1, -1],\n",
       "        [42, 40, -1, -1],\n",
       "        [43, 41, -1, -1],\n",
       "        [44, 42, -1, -1],\n",
       "        [45, 43, -1, -1],\n",
       "        [46, 44, -1, -1],\n",
       "        [47, 45, -1, -1],\n",
       "        [48, 46, -1, -1],\n",
       "        [49, 47, -1, -1],\n",
       "        [50, 48, -1, -1],\n",
       "        [51, 49, -1, -1],\n",
       "        [52, 50, -1, -1],\n",
       "        [53, 51, -1, -1],\n",
       "        [54, 52, -1, -1],\n",
       "        [55, 53, -1, -1],\n",
       "        [56, 54, -1, -1],\n",
       "        [57, 55, -1, -1],\n",
       "        [58, 56, -1, -1],\n",
       "        [59, 57, -1, -1],\n",
       "        [60, 58, -1, -1],\n",
       "        [61, 59, -1, -1],\n",
       "        [62, 60, -1, -1],\n",
       "        [63, 61, -1, -1],\n",
       "        [64, 62, -1, -1],\n",
       "        [-1, 63, -1, -1]]], dtype=int32)"
      ]
     },
     "execution_count": 13,
     "metadata": {},
     "output_type": "execute_result"
    }
   ],
   "source": [
    "hier"
   ]
  },
  {
   "cell_type": "code",
   "execution_count": 14,
   "metadata": {},
   "outputs": [
    {
     "data": {
      "text/plain": [
       "65"
      ]
     },
     "execution_count": 14,
     "metadata": {},
     "output_type": "execute_result"
    }
   ],
   "source": [
    "len(contours)"
   ]
  }
 ],
 "metadata": {
  "kernelspec": {
   "display_name": "base",
   "language": "python",
   "name": "python3"
  },
  "language_info": {
   "codemirror_mode": {
    "name": "ipython",
    "version": 3
   },
   "file_extension": ".py",
   "mimetype": "text/x-python",
   "name": "python",
   "nbconvert_exporter": "python",
   "pygments_lexer": "ipython3",
   "version": "3.11.7"
  }
 },
 "nbformat": 4,
 "nbformat_minor": 2
}
