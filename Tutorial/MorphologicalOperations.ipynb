{
 "cells": [
  {
   "cell_type": "markdown",
   "metadata": {},
   "source": [
    "Morphological operations: Each pixel's value is adjusted based on the values of the pixels surrounding the pixel"
   ]
  },
  {
   "cell_type": "code",
   "execution_count": 14,
   "metadata": {},
   "outputs": [],
   "source": [
    "import cv2 as cv\n",
    "import numpy as np"
   ]
  },
  {
   "cell_type": "markdown",
   "metadata": {},
   "source": [
    "1. Erosion: A pixel will eratin 255 iff all pixels in its kernel are 255, else it will be eroded to 0."
   ]
  },
  {
   "cell_type": "code",
   "execution_count": 15,
   "metadata": {},
   "outputs": [],
   "source": [
    "img = cv.imread(\"Apple.jpeg\")\n",
    "cv.imshow(\"Apple\", img)\n",
    "cv.waitKey(5000)\n",
    "cv.destroyAllWindows()"
   ]
  },
  {
   "cell_type": "code",
   "execution_count": 16,
   "metadata": {},
   "outputs": [],
   "source": [
    "gray = cv.cvtColor(img, cv.COLOR_BGR2GRAY)\n",
    "cv.imshow(\"Apple\", gray)\n",
    "cv.waitKey(5000)\n",
    "cv.destroyAllWindows()"
   ]
  },
  {
   "cell_type": "code",
   "execution_count": 17,
   "metadata": {},
   "outputs": [],
   "source": [
    "erosion = cv.erode(gray, kernel=np.ones((5,5), np.uint8))\n",
    "cv.imshow(\"Apple\", erosion)\n",
    "cv.waitKey(5000)\n",
    "cv.destroyAllWindows()"
   ]
  },
  {
   "cell_type": "markdown",
   "metadata": {},
   "source": [
    "2. Dilation: Inverse of erosion, even if one value of the pixel's kernel has 255, then the pixel takes on 255 "
   ]
  },
  {
   "cell_type": "code",
   "execution_count": 18,
   "metadata": {},
   "outputs": [],
   "source": [
    "dilation = cv.dilate(gray, kernel = np.ones((5,5), np.uint8))\n",
    "cv.imshow(\"Apple\", dilation)\n",
    "cv.waitKey(5000)\n",
    "cv.destroyAllWindows()"
   ]
  },
  {
   "cell_type": "markdown",
   "metadata": {},
   "source": [
    "3. Opening: erosion followed by dilation; Removes noise"
   ]
  },
  {
   "cell_type": "code",
   "execution_count": 20,
   "metadata": {},
   "outputs": [],
   "source": [
    "opening = cv.morphologyEx(gray, cv.MORPH_OPEN, kernel = np.ones((5,5), np.uint8))\n",
    "cv.imshow(\"Apple\", opening)\n",
    "cv.waitKey(5000)\n",
    "cv.destroyAllWindows()"
   ]
  },
  {
   "cell_type": "markdown",
   "metadata": {},
   "source": [
    "4. Closing: Dilation followed by erosion; fills patches in the foreground image"
   ]
  },
  {
   "cell_type": "code",
   "execution_count": 21,
   "metadata": {},
   "outputs": [],
   "source": [
    "closing = cv.morphologyEx(gray, cv.MORPH_CLOSE, kernel = np.ones((5,5), np.uint8))\n",
    "cv.imshow(\"Apple\", closing)\n",
    "cv.waitKey(5000)\n",
    "cv.destroyAllWindows()"
   ]
  },
  {
   "cell_type": "markdown",
   "metadata": {},
   "source": [
    "5. Gradient: Gets outline of the image; Dilated - Eroded"
   ]
  },
  {
   "cell_type": "code",
   "execution_count": null,
   "metadata": {},
   "outputs": [],
   "source": [
    "grad = cv.morphologyEx(gray, cv.MORPH_GRADIENT, kernel = np.ones((5,5), np.uint8))\n",
    "cv.imshow(\"Apple\", grad)\n",
    "cv.waitKey(5000)\n",
    "cv.destroyAllWindows()"
   ]
  }
 ],
 "metadata": {
  "kernelspec": {
   "display_name": "base",
   "language": "python",
   "name": "python3"
  },
  "language_info": {
   "codemirror_mode": {
    "name": "ipython",
    "version": 3
   },
   "file_extension": ".py",
   "mimetype": "text/x-python",
   "name": "python",
   "nbconvert_exporter": "python",
   "pygments_lexer": "ipython3",
   "version": "3.11.7"
  }
 },
 "nbformat": 4,
 "nbformat_minor": 2
}
