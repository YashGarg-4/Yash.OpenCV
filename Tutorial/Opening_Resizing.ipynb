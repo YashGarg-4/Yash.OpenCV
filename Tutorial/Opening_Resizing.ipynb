{
 "cells": [
  {
   "cell_type": "code",
   "execution_count": 1,
   "id": "a37a7d36-3e2f-44b9-bbf4-6e1bbfd1dd4f",
   "metadata": {},
   "outputs": [],
   "source": [
    "import cv2 as cv"
   ]
  },
  {
   "cell_type": "code",
   "execution_count": 4,
   "id": "380e77d1-03b0-4819-99d6-bfef899ae312",
   "metadata": {},
   "outputs": [],
   "source": [
    "img = cv.imread('test.png')"
   ]
  },
  {
   "cell_type": "code",
   "execution_count": null,
   "id": "d5207b04-00a1-459d-84de-7798d6ea26c8",
   "metadata": {},
   "outputs": [
    {
     "ename": "",
     "evalue": "",
     "output_type": "error",
     "traceback": [
      "\u001b[1;31mThe Kernel crashed while executing code in the current cell or a previous cell. \n",
      "\u001b[1;31mPlease review the code in the cell(s) to identify a possible cause of the failure. \n",
      "\u001b[1;31mClick <a href='https://aka.ms/vscodeJupyterKernelCrash'>here</a> for more info. \n",
      "\u001b[1;31mView Jupyter <a href='command:jupyter.viewOutput'>log</a> for further details."
     ]
    }
   ],
   "source": [
    "cv.imshow('a', img)"
   ]
  },
  {
   "cell_type": "code",
   "execution_count": 2,
   "id": "ef7f5884-5de4-4f94-a871-56bdb4009dfd",
   "metadata": {},
   "outputs": [],
   "source": [
    "def rescaleFrame(frame, scale = 0.5):\n",
    "    width = int(frame.shape[1]*scale)\n",
    "    height = int(frame.shape[0]*scale)\n",
    "    dimensions = (width, height)\n",
    "\n",
    "    return cv.resize(frame, dimensions, interpolation = cv.INTER_AREA)"
   ]
  },
  {
   "cell_type": "code",
   "execution_count": 5,
   "id": "0a5ff5cf-7539-4988-814e-cc099643dc4e",
   "metadata": {},
   "outputs": [],
   "source": [
    "img_resized = rescaleFrame(img)"
   ]
  },
  {
   "cell_type": "code",
   "execution_count": 6,
   "id": "e8803c11-1b12-4c33-ba0f-0dc0de27861f",
   "metadata": {},
   "outputs": [],
   "source": [
    "cv.imshow('a', img_resized)"
   ]
  }
 ],
 "metadata": {
  "kernelspec": {
   "display_name": "base",
   "language": "python",
   "name": "python3"
  },
  "language_info": {
   "codemirror_mode": {
    "name": "ipython",
    "version": 3
   },
   "file_extension": ".py",
   "mimetype": "text/x-python",
   "name": "python",
   "nbconvert_exporter": "python",
   "pygments_lexer": "ipython3",
   "version": "3.11.7"
  }
 },
 "nbformat": 4,
 "nbformat_minor": 5
}
