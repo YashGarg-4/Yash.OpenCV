{
 "cells": [
  {
   "cell_type": "markdown",
   "id": "f88b6090",
   "metadata": {},
   "source": [
    "# SUB-TASK 5"
   ]
  },
  {
   "cell_type": "markdown",
   "id": "70b85142",
   "metadata": {},
   "source": [
    "# 5. DRAWING FUNCTIONS"
   ]
  },
  {
   "cell_type": "code",
   "execution_count": 3,
   "id": "85e19469",
   "metadata": {},
   "outputs": [],
   "source": [
    "import cv2\n",
    "import numpy as np\n",
    "import matplotlib.pyplot as plt"
   ]
  },
  {
   "cell_type": "markdown",
   "id": "7c6107df",
   "metadata": {},
   "source": [
    "# Making a Black Background"
   ]
  },
  {
   "cell_type": "code",
   "execution_count": 4,
   "id": "36a1c3a7",
   "metadata": {},
   "outputs": [],
   "source": [
    "background_img = np.zeros((512, 512, 3), dtype='uint8')\n"
   ]
  },
  {
   "cell_type": "code",
   "execution_count": 5,
   "id": "1b9da0a7",
   "metadata": {},
   "outputs": [
    {
     "data": {
      "text/plain": [
       "True"
      ]
     },
     "execution_count": 5,
     "metadata": {},
     "output_type": "execute_result"
    }
   ],
   "source": [
    "cv2.imwrite(\"black_background.png\", background_img)"
   ]
  },
  {
   "cell_type": "code",
   "execution_count": 6,
   "id": "f6d8e407",
   "metadata": {},
   "outputs": [],
   "source": [
    "bg_img = cv2.imread(\"black_background.png\", cv2.IMREAD_COLOR)"
   ]
  },
  {
   "cell_type": "markdown",
   "id": "d7edefa9",
   "metadata": {},
   "source": [
    "# Line"
   ]
  },
  {
   "cell_type": "code",
   "execution_count": 7,
   "id": "3a9ac4fd",
   "metadata": {},
   "outputs": [],
   "source": [
    "cv2.line(bg_img, (0, 0), (300, 200), (255, 0, 255), 3)\n"
   ]
  },
  {
   "cell_type": "markdown",
   "id": "5741acb1",
   "metadata": {},
   "source": [
    "# Rectangle"
   ]
  },
  {
   "cell_type": "code",
   "execution_count": 9,
   "id": "6eb17a8b",
   "metadata": {},
   "outputs": [],
   "source": [
    "cv2.rectangle(bg_img, (200, 200), (300, 450), (0, 255, 255), -1)\n",
    "cv2.imshow(\"bgline\", bg_img)\n",
    "cv2.waitKey(0)\n",
    "cv2.destroyAllWindows()"
   ]
  },
  {
   "cell_type": "markdown",
   "id": "4f270030",
   "metadata": {},
   "source": [
    "# Circle"
   ]
  },
  {
   "cell_type": "code",
   "execution_count": null,
   "id": "90f51309",
   "metadata": {},
   "outputs": [],
   "source": [
    "cv2.circle(bg_img, (250, 250), 50, (0, 0, 255), 3)\n",
    "cv2.imshow(\"bgline\", bg_img)\n",
    "cv2.waitKey(0)\n",
    "cv2.destroyAllWindows()"
   ]
  },
  {
   "cell_type": "markdown",
   "id": "9a3bdc9d",
   "metadata": {},
   "source": [
    "# Ellipse"
   ]
  },
  {
   "cell_type": "code",
   "execution_count": 12,
   "id": "ffef7ef2",
   "metadata": {},
   "outputs": [],
   "source": [
    "cv2.ellipse(bg_img, (400, 400), (100, 50), 0, 0, 360, (0, 255, 0), 5)\n"
   ]
  },
  {
   "cell_type": "code",
   "execution_count": 25,
   "id": "39aacf29",
   "metadata": {},
   "outputs": [],
   "source": [
    "pts = np.array([[10,5],[20,30],[70,20],[50,10]], np.int32)\n",
    "pts = pts.reshape((-1,1,2))\n",
    "cv2.polylines(bg_img,[pts],True,(255, 255, 255), thickness = 1)\n",
    "\n",
    "cv2.imshow(\"bgline\", bg_img)\n",
    "cv2.waitKey(0)\n",
    "cv2.destroyAllWindows()"
   ]
  },
  {
   "cell_type": "code",
   "execution_count": 47,
   "id": "c367c265",
   "metadata": {},
   "outputs": [
    {
     "data": {
      "text/plain": [
       "True"
      ]
     },
     "execution_count": 47,
     "metadata": {},
     "output_type": "execute_result"
    }
   ],
   "source": [
    "cv2.imwrite(\"drawings.png\", bg_img)"
   ]
  },
  {
   "cell_type": "markdown",
   "id": "70397576",
   "metadata": {},
   "source": [
    "# Final Result"
   ]
  },
  {
   "cell_type": "code",
   "execution_count": 49,
   "id": "f8cf1a9a",
   "metadata": {},
   "outputs": [
    {
     "name": "stdout",
     "output_type": "stream",
     "text": [
      "Output: \n"
     ]
    },
    {
     "data": {
      "image/png": "[encoded data removed]",
      "text/plain": [
       "<IPython.core.display.Image object>"
      ]
     },
     "execution_count": 49,
     "metadata": {},
     "output_type": "execute_result"
    }
   ],
   "source": [
    "from IPython.display import Image\n",
    "\n",
    "print(\"Output: \")\n",
    "\n",
    "Image(\"drawings.png\")"
   ]
  },
  {
   "cell_type": "markdown",
   "id": "8de3eb45",
   "metadata": {},
   "source": [
    "# DRAWING A TRIANGLE WITH CENTROID"
   ]
  },
  {
   "cell_type": "code",
   "execution_count": 50,
   "id": "2d5f6bc4",
   "metadata": {},
   "outputs": [],
   "source": [
    "# Triangle\n",
    "\n",
    "bg_img_2 = cv2.imread(\"black_background.png\", cv2.IMREAD_COLOR)\n",
    "\n",
    "pts_triangle = np.array([[100, 100], [50, 200], [300, 150]], np.int32)\n",
    "\n",
    "#Centroid = Mean of respective coordinates\n",
    "centroid = np.mean(pts_triangle, axis = 0, dtype = np.int32).tolist()\n",
    "\n",
    "#Changing dimensions of points to fit it in cv2.polylines()\n",
    "pts_triangle = pts_triangle.reshape((-1, 1, 2))\n",
    "\n",
    "#Triangle - in yellow\n",
    "cv2.polylines(bg_img_2,[pts_triangle],True,(0, 255, 255), thickness = 3)\n",
    "#Centroid - in magenta\n",
    "cv2.circle(bg_img_2, centroid, 5, (255, 0, 255), -1)"
   ]
  },
  {
   "cell_type": "code",
   "execution_count": 51,
   "id": "490eae38",
   "metadata": {},
   "outputs": [
    {
     "data": {
      "text/plain": [
       "True"
      ]
     },
     "execution_count": 51,
     "metadata": {},
     "output_type": "execute_result"
    }
   ],
   "source": [
    "cv2.imwrite(\"centroid.png\", bg_img_2)"
   ]
  },
  {
   "cell_type": "code",
   "execution_count": 52,
   "id": "198e568b",
   "metadata": {},
   "outputs": [
    {
     "data": {
      "image/png": "[encoded data removed]",
      "text/plain": [
       "<IPython.core.display.Image object>"
      ]
     },
     "execution_count": 52,
     "metadata": {},
     "output_type": "execute_result"
    }
   ],
   "source": [
    "Image(\"centroid.png\")"
   ]
  },
  {
   "cell_type": "markdown",
   "id": "43d4b8b4",
   "metadata": {},
   "source": [
    "# FINDING AND DRAWING CONTOURS"
   ]
  },
  {
   "cell_type": "code",
   "execution_count": 111,
   "id": "03313595",
   "metadata": {},
   "outputs": [
    {
     "data": {
      "text/plain": [
       "<matplotlib.image.AxesImage at 0x2614a7eb4c0>"
      ]
     },
     "execution_count": 111,
     "metadata": {},
     "output_type": "execute_result"
    },
    {
     "data": {
      "image/png": "[encoded data removed]",
      "text/plain": [
       "<Figure size 432x288 with 1 Axes>"
      ]
     },
     "metadata": {
      "needs_background": "light"
     },
     "output_type": "display_data"
    }
   ],
   "source": [
    "shapes_img = cv2.imread(\"shapes.jpg\", cv2.IMREAD_COLOR)\n",
    "plt.imshow(shapes_img, cmap='gray')"
   ]
  },
  {
   "cell_type": "code",
   "execution_count": 112,
   "id": "be7cac27",
   "metadata": {},
   "outputs": [
    {
     "data": {
      "text/plain": [
       "<matplotlib.image.AxesImage at 0x2614a852d30>"
      ]
     },
     "execution_count": 112,
     "metadata": {},
     "output_type": "execute_result"
    },
    {
     "data": {
      "image/png": "[encoded data removed]",
      "text/plain": [
       "<Figure size 432x288 with 1 Axes>"
      ]
     },
     "metadata": {
      "needs_background": "light"
     },
     "output_type": "display_data"
    }
   ],
   "source": [
    "edges = cv2.Canny(shapes_img, 30, 200)\n",
    "plt.imshow(edges, cmap='gray', vmax = 1, vmin = 0)"
   ]
  },
  {
   "cell_type": "code",
   "execution_count": 113,
   "id": "7d249b03",
   "metadata": {},
   "outputs": [],
   "source": [
    "contours, _ = cv2.findContours(edges,  \n",
    "    cv2.RETR_EXTERNAL, cv2.CHAIN_APPROX_NONE) "
   ]
  },
  {
   "cell_type": "code",
   "execution_count": 114,
   "id": "1a292f23",
   "metadata": {},
   "outputs": [
    {
     "data": {
      "text/plain": [
       "<matplotlib.image.AxesImage at 0x2614aae5580>"
      ]
     },
     "execution_count": 114,
     "metadata": {},
     "output_type": "execute_result"
    },
    {
     "data": {
      "image/png": "[encoded data removed]",
      "text/plain": [
       "<Figure size 432x288 with 1 Axes>"
      ]
     },
     "metadata": {
      "needs_background": "light"
     },
     "output_type": "display_data"
    }
   ],
   "source": [
    "plt.imshow(edges, cmap='gray', vmax = 1, vmin = 0)\n"
   ]
  },
  {
   "cell_type": "code",
   "execution_count": 115,
   "id": "09638fd2",
   "metadata": {},
   "outputs": [
    {
     "name": "stdout",
     "output_type": "stream",
     "text": [
      "Number of Contours found = 37\n"
     ]
    }
   ],
   "source": [
    "print(\"Number of Contours found = \" + str(len(contours))) "
   ]
  },
  {
   "cell_type": "code",
   "execution_count": 116,
   "id": "587e2d03",
   "metadata": {},
   "outputs": [
    {
     "data": {
      "text/plain": [
       "array([[[255, 255, 255],\n",
       "        [255, 255, 255],\n",
       "        [255, 255, 255],\n",
       "        ...,\n",
       "        [255, 255, 255],\n",
       "        [255, 255, 255],\n",
       "        [255, 255, 255]],\n",
       "\n",
       "       [[255, 255, 255],\n",
       "        [255, 255, 255],\n",
       "        [255, 255, 255],\n",
       "        ...,\n",
       "        [255, 255, 255],\n",
       "        [255, 255, 255],\n",
       "        [255, 255, 255]],\n",
       "\n",
       "       [[255, 255, 255],\n",
       "        [255, 255, 255],\n",
       "        [255, 255, 255],\n",
       "        ...,\n",
       "        [255, 255, 255],\n",
       "        [255, 255, 255],\n",
       "        [255, 255, 255]],\n",
       "\n",
       "       ...,\n",
       "\n",
       "       [[255, 255, 255],\n",
       "        [255, 255, 255],\n",
       "        [255, 255, 255],\n",
       "        ...,\n",
       "        [255, 255, 255],\n",
       "        [255, 255, 255],\n",
       "        [255, 255, 255]],\n",
       "\n",
       "       [[255, 255, 255],\n",
       "        [255, 255, 255],\n",
       "        [255, 255, 255],\n",
       "        ...,\n",
       "        [255, 255, 255],\n",
       "        [255, 255, 255],\n",
       "        [255, 255, 255]],\n",
       "\n",
       "       [[255, 255, 255],\n",
       "        [255, 255, 255],\n",
       "        [255, 255, 255],\n",
       "        ...,\n",
       "        [255, 255, 255],\n",
       "        [255, 255, 255],\n",
       "        [255, 255, 255]]], dtype=uint8)"
      ]
     },
     "execution_count": 116,
     "metadata": {},
     "output_type": "execute_result"
    }
   ],
   "source": [
    "cv2.drawContours(shapes_img, contours, -1, (0, 255, 0),3) #-1 indicates draw all contours in image"
   ]
  },
  {
   "cell_type": "code",
   "execution_count": 117,
   "id": "cac921a7",
   "metadata": {},
   "outputs": [
    {
     "data": {
      "text/plain": [
       "<matplotlib.image.AxesImage at 0x2614ad6dd60>"
      ]
     },
     "execution_count": 117,
     "metadata": {},
     "output_type": "execute_result"
    },
    {
     "data": {
      "image/png": "[encoded data removed]",
      "text/plain": [
       "<Figure size 432x288 with 1 Axes>"
      ]
     },
     "metadata": {
      "needs_background": "light"
     },
     "output_type": "display_data"
    }
   ],
   "source": [
    "plt.imshow(shapes_img, cmap='gray')"
   ]
  }
 ],
 "metadata": {
  "kernelspec": {
   "display_name": "Python 3 (ipykernel)",
   "language": "python",
   "name": "python3"
  },
  "language_info": {
   "codemirror_mode": {
    "name": "ipython",
    "version": 3
   },
   "file_extension": ".py",
   "mimetype": "text/x-python",
   "name": "python",
   "nbconvert_exporter": "python",
   "pygments_lexer": "ipython3",
   "version": "3.11.7"
  }
 },
 "nbformat": 4,
 "nbformat_minor": 5
}
